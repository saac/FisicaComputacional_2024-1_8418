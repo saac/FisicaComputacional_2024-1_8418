{
 "cells": [
  {
   "cell_type": "code",
   "execution_count": 24,
   "id": "5556c6ef",
   "metadata": {},
   "outputs": [],
   "source": [
    "from numpy import empty,zeros,max\n",
    "import pylab as pyl\n",
    "import matplotlib.pyplot as plt"
   ]
  },
  {
   "cell_type": "code",
   "execution_count": 2,
   "id": "3a8a43de",
   "metadata": {},
   "outputs": [],
   "source": [
    "# Constantes\n",
    "M = 100         # Cuadros en la cuadicula\n",
    "V = 1.0         # Voltaje en la parte superior de la placa\n",
    "target = 1e-6   # Precision\n"
   ]
  },
  {
   "cell_type": "code",
   "execution_count": 21,
   "id": "1a1b14ac",
   "metadata": {},
   "outputs": [
    {
     "data": {
      "text/plain": [
       "array([[1., 1., 1., ..., 1., 1., 1.],\n",
       "       [0., 0., 0., ..., 0., 0., 0.],\n",
       "       [0., 0., 0., ..., 0., 0., 0.],\n",
       "       ...,\n",
       "       [0., 0., 0., ..., 0., 0., 0.],\n",
       "       [0., 0., 0., ..., 0., 0., 0.],\n",
       "       [0., 0., 0., ..., 0., 0., 0.]])"
      ]
     },
     "execution_count": 21,
     "metadata": {},
     "output_type": "execute_result"
    }
   ],
   "source": [
    "phi2 = zeros([M+1,M+1],float)\n",
    "phi2[0,:] = V\n",
    "# phi2\n",
    "\n",
    "Dphi2 = empty([M+1,M+1],float)\n",
    "phi2"
   ]
  },
  {
   "cell_type": "code",
   "execution_count": 4,
   "id": "0b0ec170",
   "metadata": {},
   "outputs": [],
   "source": [
    "# Creamos unas cajas (arreglos) para guardar los valores del potencial\n",
    "phi = zeros([M+1,M+1],float)\n",
    "phi[0,:] = V\n",
    "Dphi = empty([M+1,M+1],float)\n",
    "\n",
    "\n",
    "\n",
    "delta = 1.0\n",
    "while delta>target:\n",
    "    # Calculamos los nuevos valores del potencial\n",
    "    for i in range(M+1):\n",
    "        for j in range(M+1):\n",
    "            if i==0 or i==M or j==0 or j==M  # Esto define las condiciones de frontera\n",
    "                Dphi[i,j] = phi[i,j]\n",
    "            else:\n",
    "                Dphi[i,j] = (phi[i+1,j] + phi[i-1,j]+ phi[i,j+1] + phi[i,j-1])/4\n",
    "\n",
    "    # Calculamos la diferencia maxima respecto de los valores anteriores\n",
    "    delta = max(abs(phi-Dphi))\n",
    "    print(delta)\n",
    "\n",
    "    # Intercambiamos los arreglos\n",
    "    phi,Dphi = Dphi,phi\n"
   ]
  },
  {
   "cell_type": "code",
   "execution_count": 7,
   "id": "0c9039f7",
   "metadata": {},
   "outputs": [
    {
     "data": {
      "text/plain": [
       "array([[1.00000000e+00, 1.00000000e+00, 1.00000000e+00, ...,\n",
       "        1.00000000e+00, 1.00000000e+00, 1.00000000e+00],\n",
       "       [0.00000000e+00, 4.99888565e-01, 6.97429791e-01, ...,\n",
       "        6.97429791e-01, 4.99888565e-01, 0.00000000e+00],\n",
       "       [0.00000000e+00, 3.02124474e-01, 4.99554269e-01, ...,\n",
       "        4.99554269e-01, 3.02124474e-01, 0.00000000e+00],\n",
       "       ...,\n",
       "       [0.00000000e+00, 2.14992689e-04, 4.29763415e-04, ...,\n",
       "        4.29763415e-04, 2.14992689e-04, 0.00000000e+00],\n",
       "       [0.00000000e+00, 1.07438924e-04, 2.14766947e-04, ...,\n",
       "        2.14766947e-04, 1.07438924e-04, 0.00000000e+00],\n",
       "       [0.00000000e+00, 0.00000000e+00, 0.00000000e+00, ...,\n",
       "        0.00000000e+00, 0.00000000e+00, 0.00000000e+00]])"
      ]
     },
     "execution_count": 7,
     "metadata": {},
     "output_type": "execute_result"
    }
   ],
   "source": [
    "phi"
   ]
  },
  {
   "cell_type": "code",
   "execution_count": 26,
   "id": "e97471a5",
   "metadata": {},
   "outputs": [
    {
     "data": {
      "text/plain": [
       "<matplotlib.image.AxesImage at 0x7facc6a8d7b0>"
      ]
     },
     "execution_count": 26,
     "metadata": {},
     "output_type": "execute_result"
    },
    {
     "data": {
      "image/png": "[encoded data removed]",
      "text/plain": [
       "<Figure size 640x480 with 1 Axes>"
      ]
     },
     "metadata": {},
     "output_type": "display_data"
    }
   ],
   "source": [
    "pyl.imshow(phi)\n",
    "# plt.colormaps(phi)\n",
    "# pyl.gray()"
   ]
  },
  {
   "cell_type": "code",
   "execution_count": null,
   "id": "7b2acf1d",
   "metadata": {},
   "outputs": [],
   "source": []
  },
  {
   "cell_type": "code",
   "execution_count": null,
   "id": "5dd25803",
   "metadata": {},
   "outputs": [],
   "source": []
  },
  {
   "cell_type": "code",
   "execution_count": null,
   "id": "86a51254",
   "metadata": {},
   "outputs": [],
   "source": []
  },
  {
   "cell_type": "code",
   "execution_count": null,
   "id": "0c8f853c",
   "metadata": {},
   "outputs": [],
   "source": []
  },
  {
   "cell_type": "code",
   "execution_count": null,
   "id": "a9b83c2b",
   "metadata": {},
   "outputs": [],
   "source": []
  },
  {
   "cell_type": "code",
   "execution_count": null,
   "id": "f7b875ab",
   "metadata": {},
   "outputs": [],
   "source": []
  }
 ],
 "metadata": {
  "kernelspec": {
   "display_name": "Python 3 (ipykernel)",
   "language": "python",
   "name": "python3"
  },
  "language_info": {
   "codemirror_mode": {
    "name": "ipython",
    "version": 3
   },
   "file_extension": ".py",
   "mimetype": "text/x-python",
   "name": "python",
   "nbconvert_exporter": "python",
   "pygments_lexer": "ipython3",
   "version": "3.10.12"
  }
 },
 "nbformat": 4,
 "nbformat_minor": 5
}
